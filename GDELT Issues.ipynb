{
 "cells": [
  {
   "cell_type": "markdown",
   "metadata": {},
   "source": [
    "# GDELT Themes to Attributes\n",
    "Through our various analyses using GDELT data, we've gone to great lengths to curate and understand the various themes found inside GDELT news event data. We've done this through multiple rounds of content analysis, that is, actually reading the articles that get tagged with the GDELT theme. We've sorted these theses into broader issues, as commonly studied in agenda-setting research. I'm presenting these issue lists in hopes that it will be helpful to scholars using GDELT data, and to encourage similar comparisons."
   ]
  },
  {
   "cell_type": "code",
   "execution_count": 3,
   "metadata": {},
   "outputs": [],
   "source": [
    "issues = {\"taxes\" : [\"ECON_TAXATION\",],\n",
    "\"unemployment\" : [ \"UNEMPLOYMENT\", ],\n",
    "\"domesticeconomy\" : [\"ECON_BANKRUPTCY\", \"ECON_BOYCOTT\", \"ECON_COST_OF_LIVING\", \"ECON_CUTOUTLOOK\", \"ECON_DEREGULATION\", \"ECON_EARNINGSREPORT\", \"ECON_ENTREPRENEURSHIP\", \"ECON_HOUSING_PRICES\", \"ECON_INFORMAL_ECONOMY\", \"ECON_IPO\", \"ECON_INTEREST_RATE\", \"ECON_MONOPOLY\", \"ECON_MOU\", \"ECON_NATIONALIZE\", \"ECON_PRICECONTROL\", \"ECON_REMITTANCE\", \"ECON_STOCKMARKET\", \"ECON_SUBSIDIES\", \"ECON_UNIONS\", \"SLFID_ECONOMIC_DEVELOPMENT\", \"SLFID_ECONOMIC_POWER\", \"SOC_ECONCOOP\"],\n",
    "\"trade\" : [\"ECON_TRADE_DISPUTE\", \"ECON_FOREIGNINVEST\", \"ECON_FREETRADE\", \"ECON_CURRENCY_EXCHANGE_RATE\", \"ECON_CURRENCY_RESERVES\", \"ECON_DEBT\"],\n",
    "\"terrorism\" : [\"TAX_TERROR_GROUP\", \"SUICIDE_ATTACK\", \"EXTREMISM\", \"JIHAD\", \"TERROR\", \"WMD\"],\n",
    "\"military\" : [\"ACT_FORCEPOSTURE\", \"ARMEDCONFLICT\", \"BLOCKADE\", \"CEASEFIRE\", \"MILITARY\", \"MILITARY_COOPERATION\", \"PEACEKEEPING\", \"RELEASE_HOSTAGE\", \"SEIGE\", \"SLFID_MILITARY_BUILDUP\", \"SLFID_MILITARY_READINESS\", \"SLFID_MILITARY_SPENDING\", \"SLFID_PEACE_BUILDING\", \"TAX_MILITARY_TITLE\"],\n",
    "\"internationalrelations\" : [\"GOV_INTERGOVERNMENTAL\", \"SOC_DIPLOMCOOP\", \"RELATIONS\"],\n",
    "\"immigration/refugees\" : [\"BORDER\", \"CHECKPOINT\", \"DISPLACED\",  \"EXILE\", \"IMMIGRATION\", \"REFUGEES\", \"SOC_FORCEDRELOCATION\", \"SOC_MASSMIGRATION\", \"UNREST_CHECKPOINT\", \"UNREST_CLOSINGBORDER\"],\n",
    "\"healthcare\" : [\"GENERAL_HEALTH\", \"HEALTH_SEXTRANSDISEASE\", \"HEALTH_VACCINATION\", \"MEDICAL\", \"MEDICAL_SECURITY\"],\n",
    "\"guncontrol\" : [\"FIREARM_OWNERSHIP\", \"MIL_SELF_IDENTIFIED_ARMS_DEAL\", \"MIL_WEAPONS_PROLIFERATION\"],\n",
    "\"drug\" : [\"CRIME_ILLEGAL_DRUGS\", \"DRUG_TRADE\", \"TAX_CARTELS\", \"CRIME_CARTELS\"],\n",
    "\"policesystem\" : [\"UNREST_POLICEBRUTALITY\", \"SECURITY_SERVICES\"],\n",
    "\"racism\" : [\"DISCRIMINATION\", \"HATE_SPEECH\"],\n",
    "\"civilliberties\" : [\"GENDER_VIOLENCE\", \"LGBT\", \"MOVEMENT_SOCIAL\",  \"MOVEMENT_WOMENS\", \"SLFID_CIVIL_LIBERTIES\"],\n",
    "\"environment\" :  [\"ENV_BIOFUEL\", \"ENV_CARBONCAPTURE\", \"ENV_CLIMATECHANGE\",  \"ENV_COAL\", \"ENV_DEFORESTATION\", \"ENV_FISHERY\", \"ENV_FORESTRY\", \"ENV_GEOTHERMAL\", \"ENV_GREEN\", \"ENV_HYDRO\", \"ENV_METALS\", \"ENV_MINING\", \"ENV_NATURALGAS\", \"ENV_NUCLEARPOWER\", \"ENV_OIL\", \"ENV_OVERFISH\", \"ENV_POACHING\", \"ENV_WATERWAYS \", \"ENV_SOLAR\", \"ENV_SPECIESENDANGERED\", \"ENV_SPECIESEXTINCT\", \"ENV_WINDPOWER\", \"FUELPRICES\", \"MOVEMENT_ENVIRONMENTAL\", \"SELF_IDENTIFIED_ENVIRON_DISASTER\", \"SLFID_MINERAL_RESOURCES\", \"SLFID_NATURAL_RESOURCES\", \"WATER_SECURITY\"],\n",
    "\"partypolitics\" : [\"TAX_POLITICAL_PARTY\"],\n",
    "\"electionfraud\" : [\"ELECTION_FRAUD\"],\n",
    "\"education\" : [\"EDUCATION\"],\n",
    "\"media/internet\" : [\"CYBER_ATTACK\",  \"INTERNET_BLACKOUT\", \"INTERNET_CENSORSHIP\", \"MEDIA_CENSORSHIP\", \"MEDIA_MSM\", \"MEDIA_SOCIAL\", \"SURVEILLANCE\", \"FREESPEECH\"],\n",
    "}"
   ]
  },
  {
   "cell_type": "code",
   "execution_count": 4,
   "metadata": {},
   "outputs": [
    {
     "name": "stdout",
     "output_type": "stream",
     "text": [
      "dict_keys(['taxes', 'unemployment', 'domesticeconomy', 'trade', 'terrorism', 'military', 'internationalrelations', 'immigration/refugees', 'healthcare', 'guncontrol', 'drug', 'policesystem', 'racism', 'civilliberties', 'environment', 'partypolitics', 'electionfraud', 'education', 'media/internet'])\n"
     ]
    }
   ],
   "source": [
    "print(issues.keys())"
   ]
  },
  {
   "attachments": {},
   "cell_type": "markdown",
   "metadata": {},
   "source": [
    "### Found this helpful? Looking for Methodological Detail?\n",
    "Here are the papers where we created these lists. Please cite these papers if you end up using this issue lists!\n",
    "\n",
    "Vargo, C., & Lei, G (2017). Networks, big data, and intermedia agenda-setting: an analysis of traditional, partisan, and emerging online U.S. news. Journalism & Mass Communication Quarterly, 94(4) 1031–1055. https://www.dropbox.com/s/knjgj2ior6r9k8c/1FinalPDF.pdf?dl=1\n",
    "\n",
    "Guo, L., & Vargo, C. (2018). “Fake news” and emerging online media ecosystem:\n",
    "An integrated intermedia agenda-setting analysis of during the 2016 U.S. presidential election. Communication Research. Preprint published online, June 4, 2018. http://chrisjvargo.com/wp-content/uploads/2016/12/1FinalPDFJMCQ.pdf\n"
   ]
  },
  {
   "cell_type": "code",
   "execution_count": null,
   "metadata": {},
   "outputs": [],
   "source": []
  }
 ],
 "metadata": {
  "kernelspec": {
   "display_name": "Python 3",
   "language": "python",
   "name": "python3"
  },
  "language_info": {
   "codemirror_mode": {
    "name": "ipython",
    "version": 3
   },
   "file_extension": ".py",
   "mimetype": "text/x-python",
   "name": "python",
   "nbconvert_exporter": "python",
   "pygments_lexer": "ipython3",
   "version": "3.6.7"
  }
 },
 "nbformat": 4,
 "nbformat_minor": 2
}
